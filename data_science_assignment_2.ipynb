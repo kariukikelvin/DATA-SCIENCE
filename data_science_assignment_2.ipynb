{
  "nbformat": 4,
  "nbformat_minor": 0,
  "metadata": {
    "colab": {
      "provenance": []
    },
    "kernelspec": {
      "name": "python3",
      "display_name": "Python 3"
    },
    "language_info": {
      "name": "python"
    }
  },
  "cells": [
    {
      "cell_type": "code",
      "execution_count": 14,
      "metadata": {
        "id": "h8sEAlI2ZESK",
        "outputId": "1df1201d-d010-4b21-a44c-455f0051b669",
        "colab": {
          "base_uri": "https://localhost:8080/"
        }
      },
      "outputs": [
        {
          "output_type": "stream",
          "name": "stdout",
          "text": [
            "Index(['Road_Conditions', 'Weather_Conditions,', 'Time_of_Day',\n",
            "       'Accident_Severity'],\n",
            "      dtype='object')\n",
            "Predicted Accident Severity: [3.]\n"
          ]
        }
      ],
      "source": [
        "# Import necessary libraries\n",
        "import pandas as pd\n",
        "from sklearn.model_selection import train_test_split\n",
        "from sklearn.linear_model import LinearRegression\n",
        "import joblib\n",
        "\n",
        "# Load the dataset\n",
        "dataset = pd.read_excel('accident_data.csv.xlsx')\n",
        "print(dataset.columns)\n",
        "\n",
        "# Data Preprocessing\n",
        "X = dataset[['Road_Conditions', 'Weather_Conditions,', 'Time_of_Day']]  # Independent variables\n",
        "y = dataset['Accident_Severity']  # Dependent variable\n",
        "\n",
        "# Split data into training and testing sets\n",
        "X_train, X_test, y_train, y_test = train_test_split(X, y, test_size=0.2, random_state=42)\n",
        "\n",
        "# Build the Linear Regression Model\n",
        "model = LinearRegression()\n",
        "model.fit(X_train, y_train)\n",
        "\n",
        "# Save the model\n",
        "joblib.dump(model, 'accident_severity_model.pkl')\n",
        "\n",
        "# Example Prediction\n",
        "sample_data = [[2, 1, 1]]  # Hypothetical independent variables\n",
        "predicted_severity = model.predict(pd.DataFrame(sample_data, columns=['Road_Conditions', 'Weather_Conditions,', 'Time_of_Day']))\n",
        "print(\"Predicted Accident Severity:\", predicted_severity)"
      ]
    }
  ]
}